{
 "cells": [
  {
   "cell_type": "code",
   "execution_count": 1,
   "metadata": {
    "collapsed": true
   },
   "outputs": [],
   "source": [
    "import numpy as np\n",
    "import matplotlib.pyplot as plt\n",
    "from struct import unpack\n",
    "from pylab import *\n",
    "%matplotlib inline"
   ]
  },
  {
   "cell_type": "markdown",
   "metadata": {},
   "source": [
    "# Getting Started\n",
    "## Order of Events:\n",
    "1. Distance\n",
    "2. velocity\n",
    "3. Acceleration\n",
    "\n",
    "## Pseudocode:\n",
    "Vmid = vi + 1/2 a t\n",
    "\n",
    "d = di + Vmid t\n",
    "\n",
    "a = calcAccel()\n",
    "\n",
    "Use a to calculate next Vmid\n",
    "\n",
    "d,v will hve nested lists\n",
    "\n",
    "\n",
    "a = (GMr) / r**3"
   ]
  },
  {
   "cell_type": "code",
   "execution_count": 2,
   "metadata": {
    "collapsed": true
   },
   "outputs": [],
   "source": [
    "## variables\n",
    "\n",
    "#M1 = \n",
    "#M2 \n",
    "d = [[0,0],[1,0]]\n",
    "v = [[0,0],[0,30]]"
   ]
  },
  {
   "cell_type": "code",
   "execution_count": null,
   "metadata": {
    "collapsed": true
   },
   "outputs": [],
   "source": [
    "## Constant \n",
    "G = 2 * 10 ** (-45)\n",
    "earthMass = 5.972 * 10 ** 24\n",
    "sunMass = 1.99 * 10**30\n",
    "\n",
    "earthPos = np.array([1,0])\n",
    "sunPos = np.array([0,0])\n",
    "\n",
    "vEarth = [0, 1.99 * 10 ** -7]\n",
    "vSun = [0,0]\n",
    "\n",
    "mass = [earthMass, sunMass]\n",
    "pos = [earthPos,sunPos]\n",
    "pos = np.array(pos)\n",
    "velocity = [vEarth,vSun]\n",
    "velocity = np.array(velocity)\n",
    "a = []\n",
    "\n",
    "finalTime = 100 * 365 * 24 * 60 * 60\n"
   ]
  },
  {
   "cell_type": "code",
   "execution_count": 3,
   "metadata": {
    "collapsed": true
   },
   "outputs": [],
   "source": [
    "def calcAccel(pos, mass):\n",
    "    \n",
    "    a = (6.67 * 10 ** -11) * M1 / r ** 2\n",
    "    r = pos[0] - pos[1]                  #calc distance from earth to sun\n",
    "    rmag = np.sqrt(r[0]**2+r[1]**2)       #calc magnitud\n",
    "    for i in mass:\n",
    "        a.append((g*i/rmag**3)*r)          #calculate the exceleration\n",
    "    return a"
   ]
  },
  {
   "cell_type": "code",
   "execution_count": 4,
   "metadata": {
    "collapsed": true
   },
   "outputs": [],
   "source": [
    "##\n",
    "def leapFrog(a,pos,velocity,t, mass):\n",
    "    vMid = velocity + .5 * a * t\n",
    "    d =  pos +vMid * t\n",
    "    a = calcAccel(pos, mass)\n",
    "    v = velocity + a * t\n",
    "    return d,v,a\n",
    "\n"
   ]
  },
  {
   "cell_type": "code",
   "execution_count": null,
   "metadata": {
    "collapsed": true
   },
   "outputs": [],
   "source": [
    "## Running data Collection\n",
    "t = 0\n",
    "\n",
    "while(t < finalTime):\n",
    "    rawData = leapFrog(a,d,velocity,t,mass)"
   ]
  },
  {
   "cell_type": "raw",
   "metadata": {},
   "source": [
    "##\n",
    "\n",
    "t_final = 100 * 365 * 24 * 60 * 60\n",
    "dt = 60 * 60 * 24\n",
    "a = calc_accel(pos, mass)\n",
    "t = 0\n",
    "while (t < t_final"
   ]
  }
 ],
 "metadata": {
  "kernelspec": {
   "display_name": "Python 2",
   "language": "python",
   "name": "python2"
  },
  "language_info": {
   "codemirror_mode": {
    "name": "ipython",
    "version": 2
   },
   "file_extension": ".py",
   "mimetype": "text/x-python",
   "name": "python",
   "nbconvert_exporter": "python",
   "pygments_lexer": "ipython2",
   "version": "2.7.13"
  }
 },
 "nbformat": 4,
 "nbformat_minor": 2
}
