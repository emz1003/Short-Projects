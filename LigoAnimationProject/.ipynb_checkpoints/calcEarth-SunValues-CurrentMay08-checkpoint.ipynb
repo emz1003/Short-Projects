{
 "cells": [
  {
   "cell_type": "code",
   "execution_count": 14,
   "metadata": {
    "collapsed": true
   },
   "outputs": [],
   "source": [
    "import numpy as np\n",
    "import matplotlib.pyplot as plt\n",
    "from struct import unpack\n",
    "from pylab import *\n",
    "%matplotlib inline"
   ]
  },
  {
   "cell_type": "markdown",
   "metadata": {},
   "source": [
    "# Getting Started\n",
    "## Order of Events:\n",
    "1. Distance\n",
    "2. velocity\n",
    "3. Acceleration\n",
    "\n",
    "## Pseudocode:\n",
    "Vmid = vi + 1/2 a t\n",
    "\n",
    "d = di + Vmid t\n",
    "\n",
    "a = calcAccel()\n",
    "\n",
    "Use a to calculate next Vmid\n",
    "\n",
    "d,v will hve nested lists\n",
    "\n",
    "\n",
    "a = (GMr) / r**3"
   ]
  },
  {
   "cell_type": "code",
   "execution_count": 15,
   "metadata": {
    "collapsed": true
   },
   "outputs": [],
   "source": [
    "## variables\n",
    "\n",
    "#M1 = \n",
    "#M2 \n",
    "d = [[0,0],[1,0]]\n",
    "v = [[0,0],[0,30]]"
   ]
  },
  {
   "cell_type": "code",
   "execution_count": 16,
   "metadata": {
    "collapsed": true
   },
   "outputs": [],
   "source": [
    "## Constant \n",
    "G = 2 * 10 ** (-44)\n",
    "earthMass = 5.972 * 10 ** 24\n",
    "sunMass = 1.99 * 10**30\n",
    "\n",
    "earthPos = np.array([1,0])\n",
    "sunPos = np.array([0,0])\n",
    "\n",
    "vEarth = np.array([0, 1.99 * 10 ** -7])\n",
    "vSun = np.array([0,0])\n",
    "\n",
    "mass = [earthMass, sunMass]\n",
    "mass = np.array(mass)\n",
    "pos = [earthPos,sunPos]\n",
    "pos = np.array(pos)\n",
    "velocity = [vEarth,vSun]\n",
    "velocity = np.array(velocity)\n",
    "\n",
    "\n",
    "finalTime = 5 * 365 * 24 * 60 * 60\n",
    "timeStep = 60 * 60 * 12\n"
   ]
  },
  {
   "cell_type": "raw",
   "metadata": {
    "collapsed": true
   },
   "source": [
    "## v0 calcAccel()\n",
    "\n",
    "\n",
    "def calcAccel(pos, mass):\n",
    "    a = []\n",
    "    r = pos[0] - pos[1]                  #calc distance from earth to sun\n",
    "    rmag = np.sqrt(r[0]**2+r[1]**2)       #calc magnitud\n",
    "    for i in mass:\n",
    "        a.append((G*i/rmag**3)*r)          #calculate the exceleration\n",
    "    return np.array(a)"
   ]
  },
  {
   "cell_type": "code",
   "execution_count": 17,
   "metadata": {
    "collapsed": true
   },
   "outputs": [],
   "source": [
    "def calcAccel(x,m):\n",
    "    a = np.zeros_like(x)\n",
    "    nbodies = x.shape[0]\n",
    "    for i in range(nbodies):\n",
    "        for j in range(nbodies):\n",
    "            r=x[j]-x[i]\n",
    "            if i !=j:\n",
    "                a[i]=a[i]+r*G*m[j]/pow(np.vdot(r,r),1.5)\n",
    "    return a"
   ]
  },
  {
   "cell_type": "code",
   "execution_count": 18,
   "metadata": {
    "collapsed": true
   },
   "outputs": [],
   "source": [
    "##\n",
    "def leapFrog(a,d1,v1,t, mass):\n",
    "    vMid = v1 + .5 * a * t  \n",
    "    d =  d1 + vMid * t          # d is a vector\n",
    "    a = calcAccel(d, mass)\n",
    "    v = vMid + .5 * a * t\n",
    "    return d,v,a\n",
    "\n"
   ]
  },
  {
   "cell_type": "code",
   "execution_count": 20,
   "metadata": {
    "collapsed": true
   },
   "outputs": [],
   "source": [
    "## Running data Collection\n",
    "t = 0\n",
    "a = calcAccel(pos,mass)\n",
    "posResult = []\n",
    "\n",
    "while(t < finalTime):\n",
    "    pos,vel,a = leapFrog(a,pos,velocity,timeStep,mass)\n",
    "    posResult.append(pos)\n",
    "    t = t + timeStep\n",
    "posResult = np.array(posResult)\n",
    "\n"
   ]
  },
  {
   "cell_type": "raw",
   "metadata": {},
   "source": [
    "\n",
    "#test\n",
    "## Running data Collection\n",
    "t = 0\n",
    "a = calcAccel(pos,mass)\n",
    "posResult = []\n",
    "\n",
    "while(t < finalTime):\n",
    "    pos,vel,a = leapFrog(a,d1,v1,timeStep,mass)\n",
    "    posResult.append(pos)\n",
    "    t = t + timeStep\n",
    "posResult = np.array(posResult)\n",
    "\n"
   ]
  },
  {
   "cell_type": "code",
   "execution_count": 7,
   "metadata": {
    "collapsed": true
   },
   "outputs": [],
   "source": [
    "keep=posResult[0]"
   ]
  },
  {
   "cell_type": "code",
   "execution_count": 8,
   "metadata": {},
   "outputs": [
    {
     "data": {
      "text/plain": [
       "numpy.ndarray"
      ]
     },
     "execution_count": 8,
     "metadata": {},
     "output_type": "execute_result"
    }
   ],
   "source": [
    "type(keep)"
   ]
  },
  {
   "cell_type": "code",
   "execution_count": 9,
   "metadata": {},
   "outputs": [
    {
     "data": {
      "text/plain": [
       "0.0"
      ]
     },
     "execution_count": 9,
     "metadata": {},
     "output_type": "execute_result"
    }
   ],
   "source": [
    "keep[1,1]"
   ]
  },
  {
   "cell_type": "raw",
   "metadata": {},
   "source": [
    "## posResult\n",
    "##[::]  --> gives everything\n",
    "## pos   --> all x positions of earth pos\n",
    "\n",
    "earthLoc = posResult[::][0]\n",
    "earthLoc = "
   ]
  },
  {
   "cell_type": "raw",
   "metadata": {},
   "source": [
    "##\n",
    "\n",
    "t_final = 100 * 365 * 24 * 60 * 60\n",
    "dt = 60 * 60 * 24\n",
    "a = calc_accel(pos, mass)\n",
    "t = 0\n",
    "while (t < t_final"
   ]
  },
  {
   "cell_type": "raw",
   "metadata": {
    "collapsed": true
   },
   "source": [
    "## Original notes\n",
    "earthLoc = posResult[::][0]\n",
    "sunLoc = posResult[::][1]\n",
    "#print posResult\n",
    "#print \"\"\n",
    "print sunLoc"
   ]
  },
  {
   "cell_type": "raw",
   "metadata": {},
   "source": [
    "for Time in posResult:\n",
    "    print Time\n",
    "    for planet in Time:\n",
    "        print \"hi\", planet\n",
    "        for location in planet:\n",
    "            print posResult[Time][planet][location]"
   ]
  },
  {
   "cell_type": "code",
   "execution_count": 21,
   "metadata": {},
   "outputs": [
    {
     "name": "stdout",
     "output_type": "stream",
     "text": [
      "[[  1.00000000e+00   8.59680000e-03]\n",
      " [  9.99962866e-01   1.71932808e-02]\n",
      " [  9.99925741e-01   2.57894425e-02]\n",
      " ..., \n",
      " [  9.95691559e-01   3.13569295e+01]\n",
      " [  9.95691557e-01   3.13655263e+01]\n",
      " [  9.95691556e-01   3.13741231e+01]]\n"
     ]
    }
   ],
   "source": [
    "#sunLoc = posResult[::,0,1]\n",
    "#print sunLoc\n",
    "np.shape(posResult)\n",
    "print posResult[::,0]\n"
   ]
  },
  {
   "cell_type": "markdown",
   "metadata": {
    "collapsed": true
   },
   "source": [
    "# Options for Animation\n",
    "1. add jupiter\n",
    "2. animate earth/sun/jupiter\n",
    "3. animate black holes"
   ]
  },
  {
   "cell_type": "code",
   "execution_count": 22,
   "metadata": {},
   "outputs": [
    {
     "data": {
      "text/plain": [
       "<matplotlib.collections.PathCollection at 0x111772350>"
      ]
     },
     "execution_count": 22,
     "metadata": {},
     "output_type": "execute_result"
    },
    {
     "data": {
      "image/png": "[encoded data removed]",
      "text/plain": [
       "<matplotlib.figure.Figure at 0x10e0b0710>"
      ]
     },
     "metadata": {},
     "output_type": "display_data"
    }
   ],
   "source": [
    "fig = plt.figure(figsize=(15,15))\n",
    "\n",
    "plt.scatter(posResult[::,0,0],posResult[::,0,1])"
   ]
  },
  {
   "cell_type": "code",
   "execution_count": null,
   "metadata": {
    "collapsed": true
   },
   "outputs": [],
   "source": []
  }
 ],
 "metadata": {
  "kernelspec": {
   "display_name": "Python 2",
   "language": "python",
   "name": "python2"
  },
  "language_info": {
   "codemirror_mode": {
    "name": "ipython",
    "version": 2
   },
   "file_extension": ".py",
   "mimetype": "text/x-python",
   "name": "python",
   "nbconvert_exporter": "python",
   "pygments_lexer": "ipython2",
   "version": "2.7.13"
  }
 },
 "nbformat": 4,
 "nbformat_minor": 2
}
