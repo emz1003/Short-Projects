{
 "cells": [
  {
   "cell_type": "code",
   "execution_count": 39,
   "metadata": {
    "collapsed": true
   },
   "outputs": [],
   "source": [
    "import numpy as np\n",
    "import matplotlib.pyplot as plt\n",
    "from struct import unpack\n",
    "from pylab import *\n",
    "%matplotlib inline"
   ]
  },
  {
   "cell_type": "markdown",
   "metadata": {},
   "source": [
    "# Getting Started\n",
    "## Order of Events:\n",
    "1. Distance\n",
    "2. velocity\n",
    "3. Acceleration\n",
    "\n",
    "## Pseudocode:\n",
    "Vmid = vi + 1/2 a t\n",
    "\n",
    "d = di + Vmid t\n",
    "\n",
    "a = calcAccel()\n",
    "\n",
    "Use a to calculate next Vmid\n",
    "\n",
    "d,v will hve nested lists\n",
    "\n",
    "\n",
    "a = (GMr) / r**3"
   ]
  },
  {
   "cell_type": "code",
   "execution_count": 40,
   "metadata": {
    "collapsed": true
   },
   "outputs": [],
   "source": [
    "## variables\n",
    "\n",
    "#M1 = \n",
    "#M2 \n",
    "d = [[0,0],[1,0]]\n",
    "v = [[0,0],[0,30]]"
   ]
  },
  {
   "cell_type": "code",
   "execution_count": 52,
   "metadata": {
    "collapsed": true
   },
   "outputs": [],
   "source": [
    "## Constant \n",
    "G = 2 * 10 ** (-45)\n",
    "earthMass = 5.972 * 10 ** 24\n",
    "sunMass = 1.99 * 10**30\n",
    "\n",
    "earthPos = np.array([1,0])\n",
    "sunPos = np.array([0,0])\n",
    "\n",
    "vEarth = np.array([0, 1.99 * 10 ** -7])\n",
    "vSun = np.array([0,0])\n",
    "\n",
    "mass = [earthMass, sunMass]\n",
    "mass = np.array(mass)\n",
    "pos = [earthPos,sunPos]\n",
    "pos = np.array(pos)\n",
    "velocity = [vEarth,vSun]\n",
    "velocity = np.array(velocity)\n",
    "\n",
    "\n",
    "finalTime = 50 * 365 * 24 * 60 * 60\n",
    "timeStep = 60 * 60 * 24\n"
   ]
  },
  {
   "cell_type": "raw",
   "metadata": {
    "collapsed": true
   },
   "source": [
    "## v0 calcAccel()\n",
    "\n",
    "\n",
    "def calcAccel(pos, mass):\n",
    "    a = []\n",
    "    r = pos[0] - pos[1]                  #calc distance from earth to sun\n",
    "    rmag = np.sqrt(r[0]**2+r[1]**2)       #calc magnitud\n",
    "    for i in mass:\n",
    "        a.append((G*i/rmag**3)*r)          #calculate the exceleration\n",
    "    return np.array(a)"
   ]
  },
  {
   "cell_type": "code",
   "execution_count": 53,
   "metadata": {
    "collapsed": true
   },
   "outputs": [],
   "source": [
    "def calcAccel(x,m):\n",
    "    a =np.zeros_like(x)\n",
    "    nbodies = x.shape[0]\n",
    "    for i in range(nbodies):\n",
    "        for j in range(nbodies):\n",
    "            r=x[j]-x[i]\n",
    "            if i !=j:\n",
    "                a[i]=a[i]+r*G*m[j]/pow(np.vdot(r,r),1.5)\n",
    "    return a"
   ]
  },
  {
   "cell_type": "code",
   "execution_count": 54,
   "metadata": {
    "collapsed": true
   },
   "outputs": [],
   "source": [
    "##\n",
    "def leapFrog(a,d1,v1,t, mass):\n",
    "    vMid = v1 + (1/2) * a * t  \n",
    "    d =  d1 + vMid * t          # d is a vector\n",
    "    a = calcAccel(d, mass)\n",
    "    v = vMid + .5 * a * t\n",
    "    return d,v,a\n",
    "\n"
   ]
  },
  {
   "cell_type": "code",
   "execution_count": 55,
   "metadata": {},
   "outputs": [
    {
     "data": {
      "text/plain": [
       "array([[[  1.00000000e+00,   1.71936000e-02],\n",
       "        [  0.00000000e+00,   0.00000000e+00]],\n",
       "\n",
       "       [[  1.00000000e+00,   3.43872000e-02],\n",
       "        [  0.00000000e+00,   0.00000000e+00]],\n",
       "\n",
       "       [[  1.00000000e+00,   5.15808000e-02],\n",
       "        [  0.00000000e+00,   0.00000000e+00]],\n",
       "\n",
       "       ..., \n",
       "       [[  1.00000000e+00,   3.13748813e+02],\n",
       "        [  0.00000000e+00,   0.00000000e+00]],\n",
       "\n",
       "       [[  1.00000000e+00,   3.13766006e+02],\n",
       "        [  0.00000000e+00,   0.00000000e+00]],\n",
       "\n",
       "       [[  1.00000000e+00,   3.13783200e+02],\n",
       "        [  0.00000000e+00,   0.00000000e+00]]])"
      ]
     },
     "execution_count": 55,
     "metadata": {},
     "output_type": "execute_result"
    }
   ],
   "source": [
    "## Running data Collection\n",
    "t = 0\n",
    "a = calcAccel(pos,mass)\n",
    "posResult = []\n",
    "\n",
    "while(t < finalTime):\n",
    "    pos,vel,a = leapFrog(a,pos,velocity,timeStep,mass)\n",
    "    posResult.append(pos)\n",
    "    t = t + timeStep\n",
    "np.array(posResult)\n",
    "\n"
   ]
  },
  {
   "cell_type": "code",
   "execution_count": 58,
   "metadata": {},
   "outputs": [
    {
     "ename": "TypeError",
     "evalue": "list indices must be integers, not tuple",
     "output_type": "error",
     "traceback": [
      "\u001b[0;31m---------------------------------------------------------------------------\u001b[0m",
      "\u001b[0;31mTypeError\u001b[0m                                 Traceback (most recent call last)",
      "\u001b[0;32m<ipython-input-58-0112be3b4ff0>\u001b[0m in \u001b[0;36m<module>\u001b[0;34m()\u001b[0m\n\u001b[0;32m----> 1\u001b[0;31m \u001b[0mposResult\u001b[0m\u001b[0;34m[\u001b[0m\u001b[0;34m:\u001b[0m\u001b[0;34m:\u001b[0m\u001b[0;34m,\u001b[0m\u001b[0;36m0\u001b[0m\u001b[0;34m,\u001b[0m\u001b[0;36m0\u001b[0m\u001b[0;34m]\u001b[0m\u001b[0;34m\u001b[0m\u001b[0m\n\u001b[0m",
      "\u001b[0;31mTypeError\u001b[0m: list indices must be integers, not tuple"
     ]
    }
   ],
   "source": [
    "posResult[::,0,0]"
   ]
  },
  {
   "cell_type": "raw",
   "metadata": {},
   "source": [
    "## posResult\n",
    "##[::]  --> gives everything\n",
    "## pos   --> all x positions of earth pos\n",
    "\n",
    "earthLoc = posResult[::][0]\n",
    "earthLoc = "
   ]
  },
  {
   "cell_type": "raw",
   "metadata": {},
   "source": [
    "##\n",
    "\n",
    "t_final = 100 * 365 * 24 * 60 * 60\n",
    "dt = 60 * 60 * 24\n",
    "a = calc_accel(pos, mass)\n",
    "t = 0\n",
    "while (t < t_final"
   ]
  },
  {
   "cell_type": "raw",
   "metadata": {
    "collapsed": true
   },
   "source": [
    "## Original notes\n",
    "earthLoc = posResult[::][0]\n",
    "sunLoc = posResult[::][1]\n",
    "#print posResult\n",
    "#print \"\"\n",
    "print sunLoc"
   ]
  },
  {
   "cell_type": "raw",
   "metadata": {},
   "source": [
    "for Time in posResult:\n",
    "    print Time\n",
    "    for planet in Time:\n",
    "        print \"hi\", planet\n",
    "        for location in planet:\n",
    "            print posResult[Time][planet][location]"
   ]
  },
  {
   "cell_type": "code",
   "execution_count": 49,
   "metadata": {},
   "outputs": [
    {
     "ename": "TypeError",
     "evalue": "list indices must be integers, not tuple",
     "output_type": "error",
     "traceback": [
      "\u001b[0;31m---------------------------------------------------------------------------\u001b[0m",
      "\u001b[0;31mTypeError\u001b[0m                                 Traceback (most recent call last)",
      "\u001b[0;32m<ipython-input-49-3a27f7d8eb9f>\u001b[0m in \u001b[0;36m<module>\u001b[0;34m()\u001b[0m\n\u001b[1;32m      2\u001b[0m \u001b[0;31m#print sunLoc\u001b[0m\u001b[0;34m\u001b[0m\u001b[0;34m\u001b[0m\u001b[0m\n\u001b[1;32m      3\u001b[0m \u001b[0mnp\u001b[0m\u001b[0;34m.\u001b[0m\u001b[0mshape\u001b[0m\u001b[0;34m(\u001b[0m\u001b[0mposResult\u001b[0m\u001b[0;34m)\u001b[0m\u001b[0;34m\u001b[0m\u001b[0m\n\u001b[0;32m----> 4\u001b[0;31m \u001b[0;32mprint\u001b[0m \u001b[0mposResult\u001b[0m\u001b[0;34m[\u001b[0m\u001b[0;34m:\u001b[0m\u001b[0;34m:\u001b[0m\u001b[0;34m,\u001b[0m\u001b[0;36m0\u001b[0m\u001b[0;34m]\u001b[0m\u001b[0;34m\u001b[0m\u001b[0m\n\u001b[0m",
      "\u001b[0;31mTypeError\u001b[0m: list indices must be integers, not tuple"
     ]
    }
   ],
   "source": [
    "#sunLoc = posResult[::,0,1]\n",
    "#print sunLoc\n",
    "np.shape(posResult)\n",
    "print posResult[::,0]\n"
   ]
  },
  {
   "cell_type": "markdown",
   "metadata": {
    "collapsed": true
   },
   "source": [
    "# Options for Animation\n",
    "1. add jupiter\n",
    "2. animate earth/sun/jupiter\n",
    "3. animate black holes"
   ]
  },
  {
   "cell_type": "code",
   "execution_count": 38,
   "metadata": {},
   "outputs": [
    {
     "data": {
      "text/plain": [
       "<matplotlib.collections.PathCollection at 0x110cdfd10>"
      ]
     },
     "execution_count": 38,
     "metadata": {},
     "output_type": "execute_result"
    },
    {
     "data": {
      "image/png": "[encoded data removed]",
      "text/plain": [
       "<matplotlib.figure.Figure at 0x110bba910>"
      ]
     },
     "metadata": {},
     "output_type": "display_data"
    }
   ],
   "source": [
    "fig = plt.figure(figsize=(15,15))\n",
    "\n",
    "plt.scatter(sunLoc[0],sunLoc[1])"
   ]
  },
  {
   "cell_type": "code",
   "execution_count": null,
   "metadata": {
    "collapsed": true
   },
   "outputs": [],
   "source": []
  }
 ],
 "metadata": {
  "kernelspec": {
   "display_name": "Python 2",
   "language": "python",
   "name": "python2"
  },
  "language_info": {
   "codemirror_mode": {
    "name": "ipython",
    "version": 2
   },
   "file_extension": ".py",
   "mimetype": "text/x-python",
   "name": "python",
   "nbconvert_exporter": "python",
   "pygments_lexer": "ipython2",
   "version": "2.7.13"
  }
 },
 "nbformat": 4,
 "nbformat_minor": 2
}
