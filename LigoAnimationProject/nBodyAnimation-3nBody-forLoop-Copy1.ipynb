{
 "cells": [
  {
   "cell_type": "code",
   "execution_count": 2,
   "metadata": {
    "collapsed": true
   },
   "outputs": [],
   "source": [
    "import numpy as np\n",
    "import matplotlib.pyplot as plt\n",
    "from struct import unpack\n",
    "import matplotlib.animation as animation #new thing to import!\n",
    "from pylab import *\n",
    "%matplotlib inline\n",
    "\n"
   ]
  },
  {
   "cell_type": "code",
   "execution_count": 3,
   "metadata": {
    "collapsed": true
   },
   "outputs": [],
   "source": [
    "#Pulling in data\n",
    "\n",
    "bod_num=[]\n",
    "mass=[]\n",
    "time=[]\n",
    "ax=[]\n",
    "ex=[]\n",
    "inc=[]\n",
    "x=[]\n",
    "y=[]\n",
    "z=[]\n",
    "\n",
    "f = open(\"../../../outputData/mar08/bout.bin\", \"rb\")    ## \"rb\" is notation for read binary file\n",
    "num=17                                      ## @num is the number of columns\n",
    "vals=[1,2,3,4,5]\n",
    "while len(vals) > 0:                        ## Loops through all the rows\n",
    "    vals = f.read(4 * num)\n",
    "    if len(vals) > 0:\n",
    "        bod_num.append(unpack('f'*num,vals)[1])\n",
    "        mass.append(unpack('f'*num,vals)[2])\n",
    "        time.append(unpack('f'*num,vals)[3])\n",
    "        ax.append(unpack('f'*num,vals)[4])\n",
    "        ex.append(unpack('f'*num,vals)[5])\n",
    "        inc.append(unpack('f'*num,vals)[6])\n",
    "        x.append(unpack('f'*num,vals)[10])\n",
    "        y.append(unpack('f'*num,vals)[11])\n",
    "        z.append(unpack('f'*num,vals)[12])\n",
    "\n",
    "\n",
    "\n",
    "\n",
    "\n",
    "\n",
    "x=np.array(x)\n",
    "y=np.array(y)\n",
    "z=np.array(z)\n",
    "bod_num=np.array(bod_num)\n",
    "mass=np.array(mass)\n",
    "time=np.array(time) / 365.2\n",
    "r=np.sqrt(x**2+y**2+z**2)\n",
    "\n",
    "f.close()\n"
   ]
  },
  {
   "cell_type": "code",
   "execution_count": 4,
   "metadata": {
    "collapsed": true
   },
   "outputs": [],
   "source": [
    "glob = 0\n",
    "def assignValueToX(globalVar, value):\n",
    "    global glob\n",
    "    glob = globalVar\n",
    "    globalVar = value"
   ]
  },
  {
   "cell_type": "code",
   "execution_count": 5,
   "metadata": {},
   "outputs": [
    {
     "ename": "TypeError",
     "evalue": "cannot concatenate 'str' and 'int' objects",
     "output_type": "error",
     "traceback": [
      "\u001b[0;31m---------------------------------------------------------------------------\u001b[0m",
      "\u001b[0;31mTypeError\u001b[0m                                 Traceback (most recent call last)",
      "\u001b[0;32m<ipython-input-5-eaf0eab177a1>\u001b[0m in \u001b[0;36m<module>\u001b[0;34m()\u001b[0m\n\u001b[1;32m      1\u001b[0m \u001b[0;32mfor\u001b[0m \u001b[0mi\u001b[0m \u001b[0;32min\u001b[0m \u001b[0mrange\u001b[0m\u001b[0;34m(\u001b[0m\u001b[0;36m3\u001b[0m\u001b[0;34m)\u001b[0m\u001b[0;34m:\u001b[0m\u001b[0;34m\u001b[0m\u001b[0m\n\u001b[0;32m----> 2\u001b[0;31m     \u001b[0;32mexec\u001b[0m\u001b[0;34m(\u001b[0m\u001b[0;34m\"obj\"\u001b[0m \u001b[0;34m+\u001b[0m \u001b[0mi\u001b[0m \u001b[0;34m+\u001b[0m \u001b[0;34m\"= bod_num == \"\u001b[0m \u001b[0;34m+\u001b[0m \u001b[0mi\u001b[0m\u001b[0;34m)\u001b[0m\u001b[0;34m\u001b[0m\u001b[0m\n\u001b[0m\u001b[1;32m      3\u001b[0m \u001b[0;34m\u001b[0m\u001b[0m\n\u001b[1;32m      4\u001b[0m     \u001b[0;32mexec\u001b[0m\u001b[0;34m(\u001b[0m\u001b[0;34m\"\"\u001b[0m \u001b[0;34m+\u001b[0m \u001b[0mvar\u001b[0m\u001b[0;34m[\u001b[0m\u001b[0mi\u001b[0m\u001b[0;34m]\u001b[0m \u001b[0;34m+\u001b[0m \u001b[0;34m\"= 0\"\u001b[0m\u001b[0;34m)\u001b[0m\u001b[0;34m\u001b[0m\u001b[0m\n\u001b[1;32m      5\u001b[0m     \u001b[0meval\u001b[0m\u001b[0;34m(\u001b[0m\u001b[0;34m'assignNewValueToX(i)'\u001b[0m\u001b[0;34m)\u001b[0m\u001b[0;34m\u001b[0m\u001b[0m\n",
      "\u001b[0;31mTypeError\u001b[0m: cannot concatenate 'str' and 'int' objects"
     ]
    }
   ],
   "source": [
    "for i in range(3):\n",
    "    exec(\"obj\" + i + \"= bod_num == \" + i)\n",
    "    \n",
    "    exec(\"\" + var[i] + \"= 0\")\n",
    "    eval('assignNewValueToX(i)')\n",
    "    print eval(var[i])"
   ]
  },
  {
   "cell_type": "code",
   "execution_count": null,
   "metadata": {
    "collapsed": true
   },
   "outputs": [],
   "source": [
    "\n",
    "obj0 = bod_num == 0\n",
    "x0 = x[obj0] # creates random data to plot\n",
    "y0 = y[obj0] # creates random data to plot\n",
    "data0 = np.array([x0,y0])\n",
    "\n",
    "obj1 = bod_num == 1\n",
    "x1 = x[obj1] # creates random data to plot\n",
    "y1 = y[obj1] # creates random data to plot\n",
    "data1 = np.array([x1,y1])\n"
   ]
  },
  {
   "cell_type": "raw",
   "metadata": {},
   "source": [
    "## returns the shape of array\n",
    "## (x,y) --> (numrows, numcols)\n",
    "np.shape(data)"
   ]
  },
  {
   "cell_type": "code",
   "execution_count": null,
   "metadata": {
    "collapsed": true
   },
   "outputs": [],
   "source": [
    "def update_line(num, data0,data1, line0, line1):\n",
    "    '''num - the point in the array where you want to stop plotting (how many timesteps!)\n",
    "       data - the data you want to plot [x,y]\n",
    "       line - the formatting you want for the plot'''  \n",
    "    line0.set_data(data0[..., num])   # For one body\n",
    "    line1.set_data(data1[..., num])\n",
    "    return line0, line1"
   ]
  },
  {
   "cell_type": "code",
   "execution_count": null,
   "metadata": {
    "collapsed": true
   },
   "outputs": [],
   "source": [
    "fig1 = plt.figure()\n",
    "\n",
    "line0, = plt.plot([], [], '*',ms=30, color = 'k')#set up what the plot will initial look like\n",
    "                                #can also give commands on formatting your points\n",
    "line1, = plt.plot([], [], '*',ms=30, color = 'k')#set up what the plot will initial look like\n",
    "                                #can also give commands on formatting your points\n",
    "    \n",
    "plt.xlim(-1000, 1000)\n",
    "plt.ylim(-1000, 1000)\n",
    "plt.xlabel('x')\n",
    "plt.ylabel('y')\n",
    "line0_ani = animation.FuncAnimation(fig1, update_line, 100, fargs=(data0, data1, line0, line1),interval=100, blit=True)\n",
    "\n",
    "#call the animation function and tell it:\n",
    "#the name of the figure \n",
    "#the name of the method that updates the figure\n",
    "#how many times you want to update the figure (how many timesteps!)\n",
    "#fargs= any other arguments that the update_line method needs\n",
    "#interval= how long each timestep should last\n",
    "\n",
    "'''\n",
    "animation.FuncAnimation(fig1, update_line, 25, fargs=(data, l)\n",
    "Why are you able to say \"update_line, 25,fargs = (data,l)\n",
    "\n",
    "the function FuncAnimation is told to accept a method parameter.  In this case, it is update_line.\n",
    "In the function, update_line has a num and two more parameters.  FuncAnimation makes it flexible to \n",
    "decide how manyb parameters to use.  This technique is most commonly used when a function needs a function parameter.\n",
    "'''\n",
    "print \"done\"\n",
    "line0_ani.save('2nBodyAni.mp4')"
   ]
  },
  {
   "cell_type": "code",
   "execution_count": 35,
   "metadata": {},
   "outputs": [
    {
     "name": "stdout",
     "output_type": "stream",
     "text": [
      "1\n"
     ]
    }
   ],
   "source": [
    "\n",
    "x = 1\n",
    "def assignNewValueToX(v):\n",
    "    global x\n",
    "    x = v\n",
    "\n",
    "eval('assignNewValueToX(1)')\n",
    "print(x)"
   ]
  },
  {
   "cell_type": "code",
   "execution_count": 37,
   "metadata": {},
   "outputs": [
    {
     "ename": "SyntaxError",
     "evalue": "invalid syntax (<ipython-input-37-41f9075c83a0>, line 6)",
     "output_type": "error",
     "traceback": [
      "\u001b[0;36m  File \u001b[0;32m\"<ipython-input-37-41f9075c83a0>\"\u001b[0;36m, line \u001b[0;32m6\u001b[0m\n\u001b[0;31m    print eval(var[i])\u001b[0m\n\u001b[0m        ^\u001b[0m\n\u001b[0;31mSyntaxError\u001b[0m\u001b[0;31m:\u001b[0m invalid syntax\n"
     ]
    }
   ],
   "source": [
    "var = [\"ready\",\"set\",\"go\"]\n",
    "\n",
    "for i in range(len(var)):\n",
    "    exec(\"\" + var[i] + \"= 0\")\n",
    "    eval('assignNewValueToX(i))'\n",
    "    print eval(var[i])"
   ]
  },
  {
   "cell_type": "code",
   "execution_count": 3,
   "metadata": {
    "collapsed": true
   },
   "outputs": [],
   "source": [
    "eval?"
   ]
  },
  {
   "cell_type": "code",
   "execution_count": null,
   "metadata": {
    "collapsed": true
   },
   "outputs": [],
   "source": []
  }
 ],
 "metadata": {
  "kernelspec": {
   "display_name": "Python 2",
   "language": "python",
   "name": "python2"
  },
  "language_info": {
   "codemirror_mode": {
    "name": "ipython",
    "version": 2
   },
   "file_extension": ".py",
   "mimetype": "text/x-python",
   "name": "python",
   "nbconvert_exporter": "python",
   "pygments_lexer": "ipython2",
   "version": "2.7.13"
  }
 },
 "nbformat": 4,
 "nbformat_minor": 2
}
