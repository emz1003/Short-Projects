{
 "cells": [
  {
   "cell_type": "code",
   "execution_count": 1,
   "metadata": {
    "collapsed": true
   },
   "outputs": [],
   "source": [
    "import numpy as np\n",
    "import matplotlib.pyplot as plt\n",
    "from struct import unpack\n",
    "from pylab import *\n",
    "%matplotlib inline"
   ]
  },
  {
   "cell_type": "markdown",
   "metadata": {},
   "source": [
    "# Getting Started\n",
    "## Order of Events:\n",
    "1. Distance\n",
    "2. velocity\n",
    "3. Acceleration\n",
    "\n",
    "## Pseudocode:\n",
    "Vmid = vi + 1/2 a t\n",
    "\n",
    "d = di + Vmid t\n",
    "\n",
    "a = calcAccel()\n",
    "\n",
    "Use a to calculate next Vmid\n",
    "\n",
    "d,v will hve nested lists\n",
    "\n",
    "\n",
    "a = (GMr) / r**3"
   ]
  },
  {
   "cell_type": "code",
   "execution_count": 16,
   "metadata": {
    "collapsed": true
   },
   "outputs": [],
   "source": [
    "## Constant \n",
    "G = 2 * 10 ** (-44)\n",
    "earthMass = 5.972 * 10 ** 24\n",
    "sunMass = 1.99 * 10**30\n",
    "\n",
    "earthPos = np.array([1,0])\n",
    "sunPos = np.array([0,0])\n",
    "\n",
    "vEarth = np.array([0, 1.99 * 10 ** -7])\n",
    "vSun = np.array([0,0])\n",
    "\n",
    "mass = [earthMass, sunMass]\n",
    "mass = np.array(mass)\n",
    "pos = [earthPos,sunPos]\n",
    "pos = np.array(pos)\n",
    "velocity = [vEarth,vSun]\n",
    "velocity = np.array(velocity)\n",
    "\n",
    "\n",
    "finalTime = 5 * 365 * 24 * 60 * 60\n",
    "timeStep = finalTime / 10000.\n"
   ]
  },
  {
   "cell_type": "code",
   "execution_count": 17,
   "metadata": {
    "collapsed": true
   },
   "outputs": [],
   "source": [
    "def calcAccel(x,m):\n",
    "    a = np.zeros_like(x)\n",
    "    nbodies = x.shape[0]\n",
    "    for i in range(nbodies):\n",
    "        for j in range(nbodies):\n",
    "            r=x[j]-x[i]\n",
    "            if i !=j:\n",
    "                a[i]=a[i]+r*G*m[j]/pow(np.vdot(r,r),1.5)\n",
    "    return a"
   ]
  },
  {
   "cell_type": "code",
   "execution_count": 18,
   "metadata": {
    "collapsed": true
   },
   "outputs": [],
   "source": [
    "##\n",
    "def leapFrog(a,d1,v1,t, mass):\n",
    "    vMid = v1 + .5 * a * t  \n",
    "    d =  d1 + vMid * t          # d is a vector\n",
    "    a = calcAccel(d, mass)\n",
    "    v = vMid + .5 * a * t\n",
    "    return d,v,a\n",
    "\n"
   ]
  },
  {
   "cell_type": "code",
   "execution_count": 19,
   "metadata": {
    "collapsed": true
   },
   "outputs": [],
   "source": [
    "## Running data Collection\n",
    "t = 0\n",
    "a = calcAccel(pos,mass)\n",
    "posResult = []\n",
    "\n",
    "while(t < finalTime):\n",
    "    pos,vel,a = leapFrog(a,pos,velocity,timeStep,mass)\n",
    "    posResult.append(pos)\n",
    "    t = t + timeStep\n",
    "posResult = np.array(posResult)\n",
    "\n"
   ]
  },
  {
   "cell_type": "markdown",
   "metadata": {
    "collapsed": true
   },
   "source": [
    "# Options for Animation\n",
    "1. add jupiter\n",
    "2. animate earth/sun/jupiter\n",
    "3. animate black holes"
   ]
  },
  {
   "cell_type": "code",
   "execution_count": 20,
   "metadata": {},
   "outputs": [
    {
     "data": {
      "text/plain": [
       "<matplotlib.collections.PathCollection at 0x118d04ed0>"
      ]
     },
     "execution_count": 20,
     "metadata": {},
     "output_type": "execute_result"
    },
    {
     "data": {
      "image/png": "[encoded data removed]",
      "text/plain": [
       "<matplotlib.figure.Figure at 0x1185c4790>"
      ]
     },
     "metadata": {},
     "output_type": "display_data"
    }
   ],
   "source": [
    "fig = plt.figure(figsize=(15,15))\n",
    "\n",
    "plt.scatter(posResult[::,0,0],posResult[::,0,1])"
   ]
  },
  {
   "cell_type": "code",
   "execution_count": null,
   "metadata": {
    "collapsed": true
   },
   "outputs": [],
   "source": []
  }
 ],
 "metadata": {
  "kernelspec": {
   "display_name": "Python 2",
   "language": "python",
   "name": "python2"
  },
  "language_info": {
   "codemirror_mode": {
    "name": "ipython",
    "version": 2
   },
   "file_extension": ".py",
   "mimetype": "text/x-python",
   "name": "python",
   "nbconvert_exporter": "python",
   "pygments_lexer": "ipython2",
   "version": "2.7.13"
  }
 },
 "nbformat": 4,
 "nbformat_minor": 2
}
