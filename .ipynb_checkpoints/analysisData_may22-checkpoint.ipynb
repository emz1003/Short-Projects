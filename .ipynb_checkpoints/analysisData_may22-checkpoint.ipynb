{
 "cells": [
  {
   "cell_type": "code",
   "execution_count": 1,
   "metadata": {
    "collapsed": true
   },
   "outputs": [],
   "source": [
    "import numpy as np\n",
    "import pandas as pd"
   ]
  },
  {
   "cell_type": "markdown",
   "metadata": {},
   "source": [
    "# Goal:\n",
    "1. create dataFrame with right column names\n",
    "2. tell computer for each line, search for appropriate headings"
   ]
  },
  {
   "cell_type": "markdown",
   "metadata": {},
   "source": [
    "# Read in the analysis.dat"
   ]
  },
  {
   "cell_type": "code",
   "execution_count": 4,
   "metadata": {},
   "outputs": [
    {
     "data": {
      "text/plain": [
       "['collision between bodies 8 9 at time 854186 days\\n',\n",
       " 'Current distance 4.18967 \\n',\n",
       " 'minimum distance -1.07251 \\n',\n",
       " 'relative velocity 0.0340551 -0.0136517 1.99474e-07 \\n',\n",
       " 'Kinetic Energy/Binding Energy 0.31765 \\n',\n",
       " 'T_hard 3.31133e-07 \\n',\n",
       " 'collision between bodies 6 7 at time 915440 days\\n',\n",
       " 'Current distance 4.02222 \\n',\n",
       " 'minimum distance -0.487943 \\n',\n",
       " 'relative velocity -0.0368987 0.0315428 4.11335e-07 \\n',\n",
       " 'Kinetic Energy/Binding Energy 0.533842 \\n',\n",
       " 'T_hard 3.65696e-07 \\n',\n",
       " 'collision between bodies 3 4 at time 996328 days\\n',\n",
       " 'Current distance 3.81235 \\n',\n",
       " 'minimum distance -1.64727 \\n',\n",
       " 'relative velocity -0.0570806 0.027219 -2.27955e-06 \\n',\n",
       " 'Kinetic Energy/Binding Energy 0.858693 \\n',\n",
       " 'T_hard 4.57822e-07 \\n',\n",
       " 'collision between bodies 3 6 at time 1.07374e+06 days\\n',\n",
       " 'Current distance 4.83138 \\n',\n",
       " 'minimum distance -0.510599 \\n',\n",
       " 'relative velocity -0.0106837 -0.0638743 -2.71196e-07 \\n',\n",
       " 'Kinetic Energy/Binding Energy 0.570641 \\n',\n",
       " 'T_hard 1.68693e-06 \\n',\n",
       " 'collision between bodies 5 8 at time 1.36932e+06 days\\n',\n",
       " 'Current distance 4.54532 \\n',\n",
       " 'minimum distance -0.349992 \\n',\n",
       " 'relative velocity -0.0621402 0.0169587 3.84815e-08 \\n',\n",
       " 'Kinetic Energy/Binding Energy 0.708112 \\n',\n",
       " 'T_hard 7.32621e-07 \\n',\n",
       " 'collision between bodies 3 5 at time 2.15463e+06 days\\n',\n",
       " 'Current distance 5.8068 \\n',\n",
       " 'minimum distance -0.121206 \\n',\n",
       " 'relative velocity -0.0610874 -0.0691593 -1.4605e-10 \\n',\n",
       " 'Kinetic Energy/Binding Energy 0.795652 \\n',\n",
       " 'T_hard 4.78506e-06 \\n',\n",
       " 'collision between bodies 2 3 at time 2.94126e+06 days\\n',\n",
       " 'Current distance 6.07874 \\n',\n",
       " 'minimum distance -2.18756 \\n',\n",
       " 'relative velocity -0.0999563 0.00108089 2.49759e-09 \\n',\n",
       " 'Kinetic Energy/Binding Energy 0.855285 \\n',\n",
       " 'T_hard 2.8588e-06 \\n',\n",
       " 'collision between bodies 0 1 at time 3.75784e+06 days\\n',\n",
       " 'Current distance 3.566 \\n',\n",
       " 'minimum distance -1.50538 \\n',\n",
       " 'relative velocity -0.0641067 0.0238359 4.43753e-11 \\n',\n",
       " 'Kinetic Energy/Binding Energy 0.939531 \\n',\n",
       " 'T_hard 4.67176e-07 \\n']"
      ]
     },
     "execution_count": 4,
     "metadata": {},
     "output_type": "execute_result"
    }
   ],
   "source": [
    "f = open(\"../Ligo/BH-nbody/outputData/may22/analysis.dat\", \"r\")\n",
    "f.readlines()\n"
   ]
  },
  {
   "cell_type": "raw",
   "metadata": {},
   "source": [
    "f = open(\"../../outputData/feb13/analysis.dat\", \"r\")\n",
    "\n",
    "for line in f:\n",
    "    line.split(\" \")\n",
    "#    print line\n",
    "#    line.replace('  ',',')\n",
    "    print line[-2]\n",
    "f.close() "
   ]
  },
  {
   "cell_type": "raw",
   "metadata": {
    "collapsed": true
   },
   "source": [
    "df = pd.DataFrame({\"Collison Body0\": collisionA,\"Collison Body1\": collisionB,\"Time\":time,\"Current Distance\":currentDistance,\"Minimum Distance\":minDistance,\"Relative Velocity X\":relativeVelocityX,\"Relative Velocity Y\":relativeVelocityY, \"Relative Velocity Z\":relativeVelocityZ,\"Kinetic Energy/ Binding Energy\":kineticEnergy})"
   ]
  },
  {
   "cell_type": "markdown",
   "metadata": {},
   "source": [
    "# Scanning through analysis.dat"
   ]
  },
  {
   "cell_type": "code",
   "execution_count": 42,
   "metadata": {
    "collapsed": true
   },
   "outputs": [],
   "source": [
    "## Column Arrays\n",
    "collisionA = []\n",
    "collisionB = []\n",
    "time = []\n",
    "currentDistance = []\n",
    "minDistance = []\n",
    "relativeVelocityX = []\n",
    "relativeVelocityY = []\n",
    "relativeVelocityZ= []\n",
    "kineticEnergy = []"
   ]
  },
  {
   "cell_type": "code",
   "execution_count": 43,
   "metadata": {},
   "outputs": [],
   "source": [
    "f = open(\"../Ligo/BH-nbody/outputData/may22/analysis.dat\", \"r\")\n",
    "x = [collisionA, collisionB ,time ,currentDistance ,minDistance , relativeVelocityX , relativeVelocityY ,relativeVelocityZ, kineticEnergy]\n",
    "\n",
    "\n",
    "for line in f:\n",
    "    line = line.split(' ')\n",
    "#    print line\n",
    "    if line[0] == \"collision\":\n",
    "        collisionA.append(line[3])\n",
    "        collisionB.append(line[4])\n",
    "        time.append(float(line[7]) / 365.2 )\n",
    "    elif line[0] == \"Current\":\n",
    "        currentDistance.append(line[2])\n",
    "    elif line[0] == 'minimum':\n",
    "        minDistance.append(line[2])\n",
    "    elif line[0] == 'relative':\n",
    "        relativeVelocityX.append(line[2])\n",
    "        relativeVelocityY.append(line[3])\n",
    "        relativeVelocityZ.append(line[4])\n",
    "    elif line[0] == \"Kinetic\":\n",
    "        kineticEnergy.append(line[3])\n",
    "    \n",
    "#    for i in  x:\n",
    "#        print  i\n",
    "        #print len(i)\n",
    "#        print \"\\n\"\n",
    "         \n",
    "        \n",
    "f.close()   "
   ]
  },
  {
   "cell_type": "code",
   "execution_count": 44,
   "metadata": {},
   "outputs": [
    {
     "name": "stdout",
     "output_type": "stream",
     "text": [
      "8\n",
      "8\n",
      "8\n",
      "8\n",
      "8\n",
      "8\n",
      "8\n",
      "8\n",
      "8\n"
     ]
    }
   ],
   "source": [
    "x = [collisionA, collisionB ,time ,currentDistance ,minDistance , relativeVelocityX , relativeVelocityY ,relativeVelocityZ, kineticEnergy]\n",
    "\n",
    "for i in  x:\n",
    "    #print  i\n",
    "    print len(i)"
   ]
  },
  {
   "cell_type": "code",
   "execution_count": 45,
   "metadata": {},
   "outputs": [],
   "source": [
    "df = pd.DataFrame({\"Collison Body0\": collisionA,\"Collison Body1\": collisionB,\"Time(years)\":time,\"Current Distance\":currentDistance,\"Minimum Distance\":minDistance,\"Relative Velocity X\":relativeVelocityX,\"Relative Velocity Y\":relativeVelocityY, \"Relative Velocity Z\":relativeVelocityZ,\"Kinetic Energy/ Binding Energy\":kineticEnergy})"
   ]
  },
  {
   "cell_type": "code",
   "execution_count": 46,
   "metadata": {},
   "outputs": [
    {
     "data": {
      "text/html": [
       "<div>\n",
       "<style>\n",
       "    .dataframe thead tr:only-child th {\n",
       "        text-align: right;\n",
       "    }\n",
       "\n",
       "    .dataframe thead th {\n",
       "        text-align: left;\n",
       "    }\n",
       "\n",
       "    .dataframe tbody tr th {\n",
       "        vertical-align: top;\n",
       "    }\n",
       "</style>\n",
       "<table border=\"1\" class=\"dataframe\">\n",
       "  <thead>\n",
       "    <tr style=\"text-align: right;\">\n",
       "      <th></th>\n",
       "      <th>Collison Body0</th>\n",
       "      <th>Collison Body1</th>\n",
       "      <th>Current Distance</th>\n",
       "      <th>Kinetic Energy/ Binding Energy</th>\n",
       "      <th>Minimum Distance</th>\n",
       "      <th>Relative Velocity X</th>\n",
       "      <th>Relative Velocity Y</th>\n",
       "      <th>Relative Velocity Z</th>\n",
       "      <th>Time(years)</th>\n",
       "    </tr>\n",
       "  </thead>\n",
       "  <tbody>\n",
       "    <tr>\n",
       "      <th>0</th>\n",
       "      <td>8</td>\n",
       "      <td>9</td>\n",
       "      <td>4.18967</td>\n",
       "      <td>0.31765</td>\n",
       "      <td>-1.07251</td>\n",
       "      <td>0.0340551</td>\n",
       "      <td>-0.0136517</td>\n",
       "      <td>1.99474e-07</td>\n",
       "      <td>2338.953998</td>\n",
       "    </tr>\n",
       "    <tr>\n",
       "      <th>1</th>\n",
       "      <td>6</td>\n",
       "      <td>7</td>\n",
       "      <td>4.02222</td>\n",
       "      <td>0.533842</td>\n",
       "      <td>-0.487943</td>\n",
       "      <td>-0.0368987</td>\n",
       "      <td>0.0315428</td>\n",
       "      <td>4.11335e-07</td>\n",
       "      <td>2506.681271</td>\n",
       "    </tr>\n",
       "    <tr>\n",
       "      <th>2</th>\n",
       "      <td>3</td>\n",
       "      <td>4</td>\n",
       "      <td>3.81235</td>\n",
       "      <td>0.858693</td>\n",
       "      <td>-1.64727</td>\n",
       "      <td>-0.0570806</td>\n",
       "      <td>0.027219</td>\n",
       "      <td>-2.27955e-06</td>\n",
       "      <td>2728.170865</td>\n",
       "    </tr>\n",
       "    <tr>\n",
       "      <th>3</th>\n",
       "      <td>3</td>\n",
       "      <td>6</td>\n",
       "      <td>4.83138</td>\n",
       "      <td>0.570641</td>\n",
       "      <td>-0.510599</td>\n",
       "      <td>-0.0106837</td>\n",
       "      <td>-0.0638743</td>\n",
       "      <td>-2.71196e-07</td>\n",
       "      <td>2940.142388</td>\n",
       "    </tr>\n",
       "    <tr>\n",
       "      <th>4</th>\n",
       "      <td>5</td>\n",
       "      <td>8</td>\n",
       "      <td>4.54532</td>\n",
       "      <td>0.708112</td>\n",
       "      <td>-0.349992</td>\n",
       "      <td>-0.0621402</td>\n",
       "      <td>0.0169587</td>\n",
       "      <td>3.84815e-08</td>\n",
       "      <td>3749.507119</td>\n",
       "    </tr>\n",
       "    <tr>\n",
       "      <th>5</th>\n",
       "      <td>3</td>\n",
       "      <td>5</td>\n",
       "      <td>5.8068</td>\n",
       "      <td>0.795652</td>\n",
       "      <td>-0.121206</td>\n",
       "      <td>-0.0610874</td>\n",
       "      <td>-0.0691593</td>\n",
       "      <td>-1.4605e-10</td>\n",
       "      <td>5899.863089</td>\n",
       "    </tr>\n",
       "    <tr>\n",
       "      <th>6</th>\n",
       "      <td>2</td>\n",
       "      <td>3</td>\n",
       "      <td>6.07874</td>\n",
       "      <td>0.855285</td>\n",
       "      <td>-2.18756</td>\n",
       "      <td>-0.0999563</td>\n",
       "      <td>0.00108089</td>\n",
       "      <td>2.49759e-09</td>\n",
       "      <td>8053.833516</td>\n",
       "    </tr>\n",
       "    <tr>\n",
       "      <th>7</th>\n",
       "      <td>0</td>\n",
       "      <td>1</td>\n",
       "      <td>3.566</td>\n",
       "      <td>0.939531</td>\n",
       "      <td>-1.50538</td>\n",
       "      <td>-0.0641067</td>\n",
       "      <td>0.0238359</td>\n",
       "      <td>4.43753e-11</td>\n",
       "      <td>10289.813801</td>\n",
       "    </tr>\n",
       "  </tbody>\n",
       "</table>\n",
       "</div>"
      ],
      "text/plain": [
       "  Collison Body0 Collison Body1 Current Distance  \\\n",
       "0              8              9          4.18967   \n",
       "1              6              7          4.02222   \n",
       "2              3              4          3.81235   \n",
       "3              3              6          4.83138   \n",
       "4              5              8          4.54532   \n",
       "5              3              5           5.8068   \n",
       "6              2              3          6.07874   \n",
       "7              0              1            3.566   \n",
       "\n",
       "  Kinetic Energy/ Binding Energy Minimum Distance Relative Velocity X  \\\n",
       "0                        0.31765         -1.07251           0.0340551   \n",
       "1                       0.533842        -0.487943          -0.0368987   \n",
       "2                       0.858693         -1.64727          -0.0570806   \n",
       "3                       0.570641        -0.510599          -0.0106837   \n",
       "4                       0.708112        -0.349992          -0.0621402   \n",
       "5                       0.795652        -0.121206          -0.0610874   \n",
       "6                       0.855285         -2.18756          -0.0999563   \n",
       "7                       0.939531         -1.50538          -0.0641067   \n",
       "\n",
       "  Relative Velocity Y Relative Velocity Z   Time(years)  \n",
       "0          -0.0136517         1.99474e-07   2338.953998  \n",
       "1           0.0315428         4.11335e-07   2506.681271  \n",
       "2            0.027219        -2.27955e-06   2728.170865  \n",
       "3          -0.0638743        -2.71196e-07   2940.142388  \n",
       "4           0.0169587         3.84815e-08   3749.507119  \n",
       "5          -0.0691593         -1.4605e-10   5899.863089  \n",
       "6          0.00108089         2.49759e-09   8053.833516  \n",
       "7           0.0238359         4.43753e-11  10289.813801  "
      ]
     },
     "execution_count": 46,
     "metadata": {},
     "output_type": "execute_result"
    }
   ],
   "source": [
    "df"
   ]
  },
  {
   "cell_type": "code",
   "execution_count": null,
   "metadata": {
    "collapsed": true
   },
   "outputs": [],
   "source": []
  }
 ],
 "metadata": {
  "kernelspec": {
   "display_name": "Python 2",
   "language": "python",
   "name": "python2"
  },
  "language_info": {
   "codemirror_mode": {
    "name": "ipython",
    "version": 2
   },
   "file_extension": ".py",
   "mimetype": "text/x-python",
   "name": "python",
   "nbconvert_exporter": "python",
   "pygments_lexer": "ipython2",
   "version": "2.7.13"
  }
 },
 "nbformat": 4,
 "nbformat_minor": 2
}
